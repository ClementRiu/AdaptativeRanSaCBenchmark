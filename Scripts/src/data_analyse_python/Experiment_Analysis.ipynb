{
 "cells": [
  {
   "cell_type": "code",
   "execution_count": null,
   "id": "amended-julian",
   "metadata": {},
   "outputs": [],
   "source": [
    "from RS_benchmark_loader import RS_Data_Loader \n",
    "%load_ext autoreload\n",
    "%autoreload 2"
   ]
  },
  {
   "cell_type": "code",
   "execution_count": null,
   "id": "brief-precipitation",
   "metadata": {},
   "outputs": [],
   "source": [
    "import numpy as np"
   ]
  },
  {
   "cell_type": "code",
   "execution_count": null,
   "id": "discrete-signal",
   "metadata": {},
   "outputs": [],
   "source": [
    "# data_folder = \"/home/riuclement/Documents/\" + \\\n",
    "#     \"RANSAC-benchmark/pnp_experiment/\" + \\\n",
    "#     \"2022_02_04_22_43_12/experiment_results/uniform/\"\n",
    "# default_file_paths = data_folder + \"pnp_{}_std{}_ratio{}_output.txt\"\n",
    "# magsac_file_paths = data_folder + \"pnp_{}_std{}_ratio{}_outMagsac{}.txt\"\n",
    "\n",
    "data_folder = \"/home/riuclement/Documents/\" + \\\n",
    "    \"RANSAC-benchmark/pnp_experiment/\" + \\\n",
    "    \"2022_03_29_15_05_08/experiment_results/uniform/\"\n",
    "default_file_paths = data_folder + \"pnp_{}_std{}_ratio{}_output.txt\"\n",
    "magsac_file_paths = data_folder + \"pnp_{}_std{}_ratio{}_outMagsac{}.txt\"\n",
    "\n",
    "# data_folder = \"/home/riuclement/Documents/\" + \\\n",
    "#     \"RANSAC-benchmark/magsac_experiment/\" + \\\n",
    "#     \"2022_03_29_11_37_46/experiment_results/uniform/\"\n",
    "# default_file_paths = data_folder + \"hom_{}_std{}_ratio{}_output.txt\"\n",
    "# magsac_file_paths = data_folder + \"hom_{}_std{}_ratio{}_outMagsac{}.txt\"\n",
    "\n",
    "data_folder = \"/home/riuclement/Documents/\" + \\\n",
    "    \"RANSAC-benchmark/magsac_experiment/\" + \\\n",
    "    \"2022_05_27_12_06_42/experiment_results/uniform/\"\n",
    "default_file_paths = data_folder + \"fun_{}_std{}_ratio{}_output.txt\"\n",
    "magsac_file_paths = data_folder + \"fun_{}_std{}_ratio{}_outMagsac{}.txt\"\n",
    "\n",
    "# data_folder = \"/home/riuclement/Documents/\" + \\\n",
    "#     \"RANSAC-benchmark/3dv_experiment/general/homography/2021_06_22_09_28_43/experiment_results/uniform/\"\n",
    "# default_file_paths = data_folder + \"hom_{}_std{}_ratio{}_output.txt\"\n",
    "# magsac_file_paths = data_folder + \"hom_{}_std{}_ratio{}_magsac{}.txt\"\n",
    "\n",
    "magsac_file_names = [(\"Weights\", \"float\"),\n",
    "              (\"Labels\", \"int\"), \n",
    "              (\"InErrors\", \"float\"),\n",
    "              (\"FullErrors\", \"float\"),\n",
    "              (\"Inliers\", \"int\"),\n",
    "             ]\n",
    "\n",
    "# magsac_file_names = [(\"Weights\", \"float\"),\n",
    "#                       (\"Labels\", \"int\"), \n",
    "#                       (\"Errors\", \"float\"),\n",
    "#                       (\"ErrorsAll\", \"float\"),\n",
    "#                       (\"Inliers\", \"int\"),\n",
    "#                      ]\n",
    "\n",
    "algorithm_names = [\"RanSaC-3\",\n",
    "                    \"RanSaC-9\",\n",
    "                    \"AC-RanSaC\",\n",
    "                    \"Fast-AC-RanSaC\",\n",
    "                    \"LRT\",\n",
    "                    \"MUSE\",\n",
    "                    \"MAGSAC\",\n",
    "                    \"MAGSAC-True-Threshold\", \n",
    "                    \"MAGSAC-AC-Ransac-Threshold\", \n",
    "                    \"MAGSAC-P\", \n",
    "                    \"MAGSAC-R\",\n",
    "                    \"MAGSAC-W\",\n",
    "                   ]\n",
    "\n",
    "algorithm_names_and_numbers = {algo_name: algo_index \n",
    "                               for algo_index, algo_name in enumerate(algorithm_names)}\n",
    "\n",
    "metric_names = {\n",
    "    'p' : 0,\n",
    "    'r' : 1,\n",
    "    's' : 2,\n",
    "    't' : 3,\n",
    "}\n",
    "\n",
    "dataset_size = 11\n",
    "sigma_values = [float(i / 10) for i in range(31)]\n",
    "ratio_values = [float(i / 10) for i in range(10)]\n",
    "num_runs = 25\n",
    "\n",
    "# dataset_name = \"Homography - USAC\"\n",
    "dataset_name = \"Fundamental - USAC\"\n",
    "# dataset_name = \"PnP - MegaDepth\""
   ]
  },
  {
   "cell_type": "code",
   "execution_count": null,
   "id": "romantic-services",
   "metadata": {},
   "outputs": [],
   "source": [
    "data_loader = RS_Data_Loader(default_file_paths,\n",
    "                            magsac_file_paths,\n",
    "                            magsac_file_names,\n",
    "                            algorithm_names,\n",
    "                            algorithm_names_and_numbers,\n",
    "                            metric_names,\n",
    "                            dataset_size,\n",
    "                            sigma_values,\n",
    "                            ratio_values,\n",
    "                            num_runs,\n",
    "                            dataset_name)"
   ]
  },
  {
   "cell_type": "code",
   "execution_count": null,
   "id": "appointed-annual",
   "metadata": {},
   "outputs": [],
   "source": [
    "data_loader.load_data()"
   ]
  },
  {
   "cell_type": "code",
   "execution_count": null,
   "id": "conscious-hotel",
   "metadata": {},
   "outputs": [],
   "source": [
    "data_loader.compute_metrics(0.1)"
   ]
  },
  {
   "cell_type": "code",
   "execution_count": null,
   "id": "guided-private",
   "metadata": {},
   "outputs": [],
   "source": [
    "display_style = {\n",
    "    \"alpha\" : 1.0,\n",
    "    \"colors\" : {\n",
    "        \"RanSaC-3\" : 'b',\n",
    "        \"RanSaC-9\" : 'b',\n",
    "        \"AC-RanSaC\" : 'r',\n",
    "        \"Fast-AC-RanSaC\" : 'r',\n",
    "        \"LRT\" : 'g',\n",
    "        \"MUSE\" : 'y',\n",
    "        \"MAGSAC\" : 'c',\n",
    "        \"MAGSAC-True-Threshold\" : 'c', \n",
    "        \"MAGSAC-AC-Ransac-Threshold\" : 'c', \n",
    "        \"MAGSAC-P\" : 'm', \n",
    "        \"MAGSAC-R\" : 'm',\n",
    "        \"MAGSAC-W\" : 'c',\n",
    "    },\n",
    "    \"linestyles\" : {\n",
    "        \"RanSaC-3\" : '-',\n",
    "        \"RanSaC-9\" : '--',\n",
    "        \"AC-RanSaC\" : '-',\n",
    "        \"Fast-AC-RanSaC\" : '--',\n",
    "        \"LRT\" : '-',\n",
    "        \"MUSE\" : '-',\n",
    "        \"MAGSAC\" : '-',\n",
    "        \"MAGSAC-True-Threshold\" : '-.', \n",
    "        \"MAGSAC-AC-Ransac-Threshold\" : '--', \n",
    "        \"MAGSAC-P\" : ':', \n",
    "        \"MAGSAC-R\" : '-.',\n",
    "        \"MAGSAC-W\" : '-.',\n",
    "    },\n",
    "}"
   ]
  },
  {
   "cell_type": "code",
   "execution_count": null,
   "id": "sufficient-computer",
   "metadata": {},
   "outputs": [],
   "source": [
    "algo_to_remove = [\"MAGSAC\",\n",
    "                   \"MAGSAC-True-Threshold\", \n",
    "                   \"MAGSAC-AC-Ransac-Threshold\", \n",
    "]\n",
    "\n",
    "metric_to_print = 'p'\n",
    "dataset_index = 0\n",
    "ratio_index = 9\n",
    "value_printed = \"Precision\"\n",
    "threshold = 0.495"
   ]
  },
  {
   "cell_type": "code",
   "execution_count": null,
   "id": "advance-mother",
   "metadata": {},
   "outputs": [],
   "source": [
    "data_loader.generate_single_image(algo_to_remove,\n",
    "                                  'p',\n",
    "                                  dataset_index,\n",
    "                                  ratio_index,\n",
    "                                  \"Precision\",\n",
    "                                  display_style,\n",
    "                                  threshold_ = threshold\n",
    "                                 )\n",
    "data_loader.generate_single_image(algo_to_remove,\n",
    "                                  'r',\n",
    "                                  dataset_index,\n",
    "                                  ratio_index,\n",
    "                                  \"Recall\",\n",
    "                                  display_style,\n",
    "                                  threshold_ = threshold\n",
    "                                 )\n",
    "data_loader.generate_single_image(algo_to_remove,\n",
    "                                  'f1',\n",
    "                                  dataset_index,\n",
    "                                  ratio_index,\n",
    "                                  \"F1-Score\",\n",
    "                                  display_style,\n",
    "                                  threshold_ = threshold\n",
    "                                 )"
   ]
  },
  {
   "cell_type": "code",
   "execution_count": null,
   "id": "analyzed-paste",
   "metadata": {
    "scrolled": true
   },
   "outputs": [],
   "source": [
    "data_loader.generate_full_image(algo_to_remove,\n",
    "                                  'p',\n",
    "                                  \"Precision\",\n",
    "                                  display_style,\n",
    "                                  threshold_ = threshold\n",
    "                                 )"
   ]
  },
  {
   "cell_type": "code",
   "execution_count": null,
   "id": "decreased-layer",
   "metadata": {
    "scrolled": true
   },
   "outputs": [],
   "source": [
    "data_loader.generate_full_image(algo_to_remove,\n",
    "                                  'r',\n",
    "                                  \"Recall\",\n",
    "                                  display_style,\n",
    "                                  threshold_ = threshold\n",
    "                                 )"
   ]
  },
  {
   "cell_type": "code",
   "execution_count": null,
   "id": "unique-small",
   "metadata": {
    "scrolled": true
   },
   "outputs": [],
   "source": [
    "data_loader.generate_full_image(algo_to_remove,\n",
    "                                \"f1\",\n",
    "                                \"F1-score\",\n",
    "                                  display_style,\n",
    "                                  threshold_ = threshold\n",
    "                                 )"
   ]
  },
  {
   "cell_type": "code",
   "execution_count": null,
   "id": "urban-passage",
   "metadata": {},
   "outputs": [],
   "source": [
    "data_loader.generate_full_image([\"MAGSAC-True-Threshold\", \n",
    "                                   \"MAGSAC-AC-Ransac-Threshold\", \n",
    "                                   \"MAGSAC-P\", \n",
    "                                   \"MAGSAC-R\",\n",
    "                                   \"MAGSAC-W\",],\n",
    "                                \"t\",\n",
    "                                \"Time (s)\",\n",
    "                                  display_style,\n",
    "#                                   threshold_ = threshold\n",
    "                                 )"
   ]
  },
  {
   "cell_type": "code",
   "execution_count": null,
   "id": "parallel-property",
   "metadata": {},
   "outputs": [],
   "source": []
  }
 ],
 "metadata": {
  "kernelspec": {
   "display_name": "Python 3",
   "language": "python",
   "name": "python3"
  },
  "language_info": {
   "codemirror_mode": {
    "name": "ipython",
    "version": 3
   },
   "file_extension": ".py",
   "mimetype": "text/x-python",
   "name": "python",
   "nbconvert_exporter": "python",
   "pygments_lexer": "ipython3",
   "version": "3.8.5"
  }
 },
 "nbformat": 4,
 "nbformat_minor": 5
}
