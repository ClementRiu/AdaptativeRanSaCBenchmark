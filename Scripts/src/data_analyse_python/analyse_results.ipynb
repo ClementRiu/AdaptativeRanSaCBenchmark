{
 "cells": [
  {
   "cell_type": "markdown",
   "metadata": {},
   "source": [
    "## Loading of Data"
   ]
  },
  {
   "cell_type": "markdown",
   "metadata": {},
   "source": [
    "Faire sigma estimé / sigma réel"
   ]
  },
  {
   "cell_type": "code",
   "execution_count": null,
   "metadata": {},
   "outputs": [],
   "source": [
    "import glob\n",
    "import matplotlib.pyplot as plt\n",
    "import numpy as np"
   ]
  },
  {
   "cell_type": "code",
   "execution_count": null,
   "metadata": {},
   "outputs": [],
   "source": [
    "from analyse_utils import load_paths, create_data_container, load_data, summarize_data, generate_image"
   ]
  },
  {
   "cell_type": "code",
   "execution_count": null,
   "metadata": {},
   "outputs": [],
   "source": [
    "editable_glob_to_results = \"/home/clementriu/Documents/these/RANSAC-benchmark/merged_script/experience_data/remote_homography/2020_10_13_11_37_01/experience_results/{}/hom_{}_std*_ratio*_output.txt\"\n",
    "# editable_glob_to_results = \"/home/clementriu/Documents/these/RANSAC-benchmark/merged_script/experience_data/remote_fundamental/2020_10_06_00_18_18/experience_results/{}/fun_{}_std*_ratio*_output.txt\""
   ]
  },
  {
   "cell_type": "code",
   "execution_count": null,
   "metadata": {},
   "outputs": [],
   "source": [
    "precision_image_path = '/home/clementriu/Documents/these/RANSAC-benchmark/merged_script/experience_data/remote_homography/2020_10_13_11_37_01/experience_results/precision.png'\n",
    "recall_image_path = '/home/clementriu/Documents/these/RANSAC-benchmark/merged_script/experience_data/remote_homography/2020_10_13_11_37_01/experience_results/recall.png'\n",
    "sigma_image_path = '/home/clementriu/Documents/these/RANSAC-benchmark/merged_script/experience_data/remote_homography/2020_10_13_11_37_01/experience_results/sigma.png'\n",
    "time_image_path = '/home/clementriu/Documents/these/RANSAC-benchmark/merged_script/experience_data/remote_homography/2020_10_13_11_37_01/experience_results/time.png'\n",
    "\n",
    "# precision_image_path = '/home/clementriu/Documents/these/RANSAC-benchmark/merged_script/experience_data/remote_fundamental/2020_10_06_00_18_18/experience_results/precision.png'\n",
    "# recall_image_path = '/home/clementriu/Documents/these/RANSAC-benchmark/merged_script/experience_data/remote_fundamental/2020_10_06_00_18_18/experience_results/recall.png'\n",
    "# sigma_image_path = '/home/clementriu/Documents/these/RANSAC-benchmark/merged_script/experience_data/remote_fundamental/2020_10_06_00_18_18/experience_results/sigma.png'\n",
    "# time_image_path = '/home/clementriu/Documents/these/RANSAC-benchmark/merged_script/experience_data/remote_fundamental/2020_10_06_00_18_18/experience_results/time.png'"
   ]
  },
  {
   "cell_type": "code",
   "execution_count": null,
   "metadata": {},
   "outputs": [],
   "source": [
    "folder_names = ['gaussian', 'uniform']\n",
    "data_numbers = [i for i in range(1, 12)]\n",
    "noise_stds = [float(i / 10) for i in range(31)]\n",
    "outlier_ratios = [float(i / 10) for i in range(10)]"
   ]
  },
  {
   "cell_type": "code",
   "execution_count": null,
   "metadata": {},
   "outputs": [],
   "source": [
    "algorithms = [\"Ransac\", \"ORSA\", \"LRT\"]"
   ]
  },
  {
   "cell_type": "code",
   "execution_count": null,
   "metadata": {},
   "outputs": [],
   "source": [
    "paths = load_paths(folder_names, data_numbers, noise_stds, editable_glob_to_results)"
   ]
  },
  {
   "cell_type": "code",
   "execution_count": null,
   "metadata": {},
   "outputs": [],
   "source": [
    "p_datas = create_data_container(outlier_ratios, noise_stds, data_numbers, folder_names)\n",
    "r_datas = create_data_container(outlier_ratios, noise_stds, data_numbers, folder_names)\n",
    "s_datas = create_data_container(outlier_ratios, noise_stds, data_numbers, folder_names)\n",
    "t_datas = create_data_container(outlier_ratios, noise_stds, data_numbers, folder_names)"
   ]
  },
  {
   "cell_type": "code",
   "execution_count": null,
   "metadata": {},
   "outputs": [],
   "source": [
    "load_data(p_datas, r_datas, s_datas, t_datas, folder_names, data_numbers, noise_stds, paths)"
   ]
  },
  {
   "cell_type": "code",
   "execution_count": null,
   "metadata": {},
   "outputs": [],
   "source": [
    "precision_mean, precision_std = summarize_data(folder_names, data_numbers, algorithms, noise_stds, outlier_ratios, p_datas)\n",
    "recall_mean, recall_std = summarize_data(folder_names, data_numbers, algorithms, noise_stds, outlier_ratios, r_datas)\n",
    "sigma_mean, sigma_std = summarize_data(folder_names, data_numbers, algorithms[1:], noise_stds, outlier_ratios, s_datas)\n",
    "time_mean, time_std = summarize_data(folder_names, data_numbers, algorithms, noise_stds, outlier_ratios, t_datas)"
   ]
  },
  {
   "cell_type": "code",
   "execution_count": null,
   "metadata": {},
   "outputs": [],
   "source": [
    "generate_image(data_numbers, outlier_ratios, algorithms, folder_names, noise_stds, \n",
    "               \"Precision\", precision_mean, precision_std)#, precision_image_path)"
   ]
  },
  {
   "cell_type": "code",
   "execution_count": null,
   "metadata": {},
   "outputs": [],
   "source": [
    "generate_image(data_numbers, outlier_ratios, algorithms, folder_names, noise_stds, \n",
    "               \"Recall\", recall_mean, recall_std)#, recall_image_path)"
   ]
  },
  {
   "cell_type": "code",
   "execution_count": null,
   "metadata": {},
   "outputs": [],
   "source": [
    "generate_image(data_numbers, outlier_ratios, algorithms[1:], folder_names, noise_stds, \n",
    "               \"Sigma\", sigma_mean, sigma_std)#, sigma_image_path)"
   ]
  },
  {
   "cell_type": "code",
   "execution_count": null,
   "metadata": {
    "scrolled": true
   },
   "outputs": [],
   "source": [
    "generate_image(data_numbers, outlier_ratios, algorithms, folder_names, noise_stds, \n",
    "               \"Time\", time_mean, time_std)#, time_image_path)"
   ]
  },
  {
   "cell_type": "code",
   "execution_count": null,
   "metadata": {},
   "outputs": [],
   "source": [
    "magsac_glob_path = \"/home/clementriu/Documents/these/RANSAC-benchmark/merged_script/experience_data/remote_homography/2020_10_13_11_37_01/experience_results/{}/hom_{}_std*_ratio*_magsac{}.txt\""
   ]
  },
  {
   "cell_type": "code",
   "execution_count": null,
   "metadata": {},
   "outputs": [],
   "source": [
    "magsac_file_names = ['Weights', 'PosInl', 'Labels', 'ErrorsAll']"
   ]
  },
  {
   "cell_type": "code",
   "execution_count": null,
   "metadata": {},
   "outputs": [],
   "source": [
    "from analyse_utils import parse_path"
   ]
  },
  {
   "cell_type": "code",
   "execution_count": null,
   "metadata": {},
   "outputs": [],
   "source": [
    "def load_magsac_paths(folder_names, data_numbers, noise_stds, outlier_ratios, file_names, glob_path):\n",
    "    paths = {folder_name:\n",
    "                {data_number:\n",
    "                    {noise_std:\n",
    "                        {outlier_ratio:\n",
    "                            {file_name: ''\n",
    "                            for file_name in file_names}\n",
    "                        for outlier_ratio in outlier_ratios}\n",
    "                    for noise_std in noise_stds}\n",
    "                for data_number in data_numbers}\n",
    "            for folder_name in folder_names}\n",
    "\n",
    "    for folder_name in folder_names:\n",
    "        for data_number in data_numbers:\n",
    "            for file_name in file_names:\n",
    "                for path in sorted(glob.glob(glob_path.format(folder_name, data_number, file_name))):\n",
    "                    noise_std, outlier_ratio = parse_path(path)\n",
    "                    paths[folder_name][data_number][noise_std][outlier_ratio][file_name] = path\n",
    "    return paths"
   ]
  },
  {
   "cell_type": "code",
   "execution_count": null,
   "metadata": {},
   "outputs": [],
   "source": [
    "magsac_paths = load_magsac_paths(folder_names, data_numbers, noise_stds, outlier_ratios, magsac_file_names, magsac_glob_path)"
   ]
  },
  {
   "cell_type": "code",
   "execution_count": null,
   "metadata": {},
   "outputs": [],
   "source": [
    "magsac_paths['uniform'][1][0.0][0.1]"
   ]
  },
  {
   "cell_type": "code",
   "execution_count": null,
   "metadata": {},
   "outputs": [],
   "source": []
  }
 ],
 "metadata": {
  "kernelspec": {
   "display_name": "Python 3",
   "language": "python",
   "name": "python3"
  },
  "language_info": {
   "codemirror_mode": {
    "name": "ipython",
    "version": 3
   },
   "file_extension": ".py",
   "mimetype": "text/x-python",
   "name": "python",
   "nbconvert_exporter": "python",
   "pygments_lexer": "ipython3",
   "version": "3.8.5"
  }
 },
 "nbformat": 4,
 "nbformat_minor": 4
}
