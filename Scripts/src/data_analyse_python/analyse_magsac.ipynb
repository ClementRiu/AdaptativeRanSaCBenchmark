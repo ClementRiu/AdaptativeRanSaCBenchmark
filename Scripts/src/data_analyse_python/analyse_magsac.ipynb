{
 "cells": [
  {
   "cell_type": "code",
   "execution_count": null,
   "metadata": {},
   "outputs": [],
   "source": [
    "import glob\n",
    "import matplotlib.pyplot as plt\n",
    "import numpy as np"
   ]
  },
  {
   "cell_type": "code",
   "execution_count": null,
   "metadata": {},
   "outputs": [],
   "source": [
    "from analyse_utils import parse_path\n",
    "from magsac_utils import read_magsac, show_dimension, load_magsac_data\n",
    "from magsac_data import Magsac_Data"
   ]
  },
  {
   "cell_type": "code",
   "execution_count": null,
   "metadata": {},
   "outputs": [],
   "source": [
    "from analyse_utils import load_paths, create_data_container, load_data, summarize_data, generate_image, create_value_container"
   ]
  },
  {
   "cell_type": "code",
   "execution_count": null,
   "metadata": {},
   "outputs": [],
   "source": [
    "magsac_default_path = \"/home/clementriu/Documents/these/RANSAC-benchmark/merged_script/experience_data/\" + \\\n",
    "\"remote_homography/magsac_test/experience_results/uniform/hom_{}_std*_ratio*_magsac{}.txt\""
   ]
  },
  {
   "cell_type": "code",
   "execution_count": null,
   "metadata": {},
   "outputs": [],
   "source": [
    "other_editable_glob_to_results = \"/home/clementriu/Documents/these/RANSAC-benchmark/merged_script/experience_data/\" + \\\n",
    "\"remote_homography/magsac_test/experience_results/{}/hom_{}_std*_ratio*_output.txt\"\n"
   ]
  },
  {
   "cell_type": "code",
   "execution_count": null,
   "metadata": {},
   "outputs": [],
   "source": [
    "folder_names = ['uniform']\n",
    "data_numbers = [i for i in range(1, 2)]\n",
    "noise_stds = [float(i / 10) for i in range(31)]\n",
    "outlier_ratios = [float(i / 10) for i in range(10)]\n",
    "\n",
    "file_names = [\"Weights\", \"Labels\", \"Errors\", \"ErrorsAll\", \"Inliers\", \"PosInl\"]\n",
    "file_types = [\"float\", \"int\", \"float\", \"float\", \"int\", \"int\"]\n",
    "file_index = {file_name: index for index, file_name in enumerate(file_names)}"
   ]
  },
  {
   "cell_type": "code",
   "execution_count": null,
   "metadata": {},
   "outputs": [],
   "source": [
    "magsac_data_for_process = load_magsac_data(data_numbers, noise_stds, outlier_ratios, file_names, file_types, file_index, magsac_default_path)"
   ]
  },
  {
   "cell_type": "code",
   "execution_count": null,
   "metadata": {},
   "outputs": [],
   "source": [
    "other_paths = load_paths(folder_names, data_numbers, noise_stds, other_editable_glob_to_results)"
   ]
  },
  {
   "cell_type": "code",
   "execution_count": null,
   "metadata": {},
   "outputs": [],
   "source": [
    "other_p_datas = create_data_container(outlier_ratios, noise_stds, data_numbers, folder_names)\n",
    "other_r_datas = create_data_container(outlier_ratios, noise_stds, data_numbers, folder_names)\n",
    "other_s_datas = create_data_container(outlier_ratios, noise_stds, data_numbers, folder_names)\n",
    "other_t_datas = create_data_container(outlier_ratios, noise_stds, data_numbers, folder_names)"
   ]
  },
  {
   "cell_type": "code",
   "execution_count": null,
   "metadata": {},
   "outputs": [],
   "source": [
    "load_data(other_p_datas,\n",
    "          other_r_datas,\n",
    "          other_s_datas,\n",
    "          other_t_datas,\n",
    "          folder_names,\n",
    "          data_numbers,\n",
    "          noise_stds,\n",
    "          other_paths)"
   ]
  },
  {
   "cell_type": "code",
   "execution_count": null,
   "metadata": {},
   "outputs": [],
   "source": [
    "algorithms = [\"Ransac\", \"ORSA\", \"LRT\"]"
   ]
  },
  {
   "cell_type": "code",
   "execution_count": null,
   "metadata": {},
   "outputs": [],
   "source": [
    "other_precision_mean, other_precision_std = summarize_data(folder_names, data_numbers, algorithms, noise_stds, outlier_ratios, other_p_datas)\n",
    "other_recall_mean, other_recall_std = summarize_data(folder_names, data_numbers, algorithms, noise_stds, outlier_ratios, other_r_datas)\n",
    "other_sigma_mean, other_sigma_std = summarize_data(folder_names, data_numbers, algorithms[1:], noise_stds, outlier_ratios, other_s_datas)\n",
    "other_time_mean, other_time_std = summarize_data(folder_names, data_numbers, algorithms, noise_stds, outlier_ratios, other_t_datas)"
   ]
  },
  {
   "cell_type": "code",
   "execution_count": null,
   "metadata": {},
   "outputs": [],
   "source": [
    "magsac_p_datas_tt = create_data_container(outlier_ratios, noise_stds, data_numbers, folder_names)\n",
    "magsac_r_datas_tt = create_data_container(outlier_ratios, noise_stds, data_numbers, folder_names)"
   ]
  },
  {
   "cell_type": "code",
   "execution_count": null,
   "metadata": {},
   "outputs": [],
   "source": [
    "folder_name = folder_names[0]\n",
    "for data_number in data_numbers:\n",
    "    for noise_std in noise_stds:\n",
    "        for outlier_ratio in outlier_ratios:\n",
    "            values_to_transform = magsac_data_for_process[data_number][noise_std][outlier_ratio]\n",
    "            magsac_computed_p = [value_to_transform.get_precision_from_threshold(noise_std) \n",
    "                                 for value_to_transform in values_to_transform]\n",
    "            magsac_p_datas_tt[folder_name][data_number][noise_std][outlier_ratio] = [magsac_computed_p]\n",
    "            magsac_computed_r = [value_to_transform.get_recall_from_threshold(noise_std) \n",
    "                                 for value_to_transform in values_to_transform]\n",
    "            magsac_r_datas_tt[folder_name][data_number][noise_std][outlier_ratio] = [magsac_computed_r]"
   ]
  },
  {
   "cell_type": "code",
   "execution_count": null,
   "metadata": {},
   "outputs": [],
   "source": [
    "magsac_algorithm = ['Magsac']"
   ]
  },
  {
   "cell_type": "code",
   "execution_count": null,
   "metadata": {},
   "outputs": [],
   "source": [
    "magsac_precision_mean_tt, magsac_precision_std_tt = summarize_data(folder_names, data_numbers, magsac_algorithm, noise_stds, outlier_ratios, magsac_p_datas_tt)\n",
    "magsac_recall_mean_tt, magsac_recall_std_tt = summarize_data(folder_names, data_numbers, magsac_algorithm, noise_stds, outlier_ratios, magsac_r_datas_tt)"
   ]
  },
  {
   "cell_type": "code",
   "execution_count": null,
   "metadata": {},
   "outputs": [],
   "source": [
    "all_algorithms = algorithms + magsac_algorithm"
   ]
  },
  {
   "cell_type": "code",
   "execution_count": null,
   "metadata": {},
   "outputs": [],
   "source": [
    "def concatenate_values(noise_stds, outlier_ratios, algorithms, data_numbers, folder_names, other_values, magsac_values):\n",
    "    values_concat = create_value_container(len(noise_stds), len(outlier_ratios), algorithms, data_numbers, folder_names)\n",
    "\n",
    "    for folder_name in folder_names:\n",
    "            for data_number in data_numbers:\n",
    "                for algo_index, algorithm in enumerate(algorithms):\n",
    "                    for noise_std_index, noise_std in enumerate(noise_stds):\n",
    "                        for outlier_ratio_index, outlier_ratio in enumerate(outlier_ratios):\n",
    "                            if algorithm == 'Magsac':\n",
    "                                exctracted_data = magsac_values[folder_name][data_number][algorithm]\n",
    "                            else:\n",
    "                                exctracted_data = other_values[folder_name][data_number][algorithm]\n",
    "                            values_concat[folder_name][data_number][algorithm] = exctracted_data\n",
    "    return values_concat"
   ]
  },
  {
   "cell_type": "code",
   "execution_count": null,
   "metadata": {},
   "outputs": [],
   "source": [
    "all_precision_mean_tt = concatenate_values(noise_stds, \n",
    "                                           outlier_ratios,\n",
    "                                           all_algorithms,\n",
    "                                           data_numbers,\n",
    "                                           folder_names,\n",
    "                                           other_precision_mean,\n",
    "                                           magsac_precision_mean_tt)\n",
    "all_precision_std_tt = concatenate_values(noise_stds, \n",
    "                                           outlier_ratios,\n",
    "                                           all_algorithms,\n",
    "                                           data_numbers,\n",
    "                                           folder_names,\n",
    "                                           other_precision_std,\n",
    "                                           magsac_precision_std_tt)\n",
    "all_recall_mean_tt = concatenate_values(noise_stds, \n",
    "                                           outlier_ratios,\n",
    "                                           all_algorithms,\n",
    "                                           data_numbers,\n",
    "                                           folder_names,\n",
    "                                           other_recall_mean,\n",
    "                                           magsac_recall_mean_tt)\n",
    "all_recall_std_tt = concatenate_values(noise_stds, \n",
    "                                           outlier_ratios,\n",
    "                                           all_algorithms,\n",
    "                                           data_numbers,\n",
    "                                           folder_names,\n",
    "                                           other_recall_std,\n",
    "                                           magsac_recall_std_tt)"
   ]
  },
  {
   "cell_type": "code",
   "execution_count": null,
   "metadata": {},
   "outputs": [],
   "source": [
    "generate_image(data_numbers, outlier_ratios, all_algorithms, folder_names, noise_stds, \n",
    "               \"Precision\", all_precision_mean_tt, all_precision_std_tt)#, precision_image_path)"
   ]
  },
  {
   "cell_type": "code",
   "execution_count": null,
   "metadata": {},
   "outputs": [],
   "source": [
    "generate_image(data_numbers, outlier_ratios, all_algorithms, folder_names, noise_stds, \n",
    "               \"Recall\", all_recall_mean_tt, all_recall_std_tt)#, precision_image_path)"
   ]
  },
  {
   "cell_type": "code",
   "execution_count": null,
   "metadata": {},
   "outputs": [],
   "source": [
    "assert(False)"
   ]
  },
  {
   "cell_type": "code",
   "execution_count": null,
   "metadata": {},
   "outputs": [],
   "source": [
    "noise_threshold = 1.0\n",
    "outlier_ratio = 0.5\n",
    "test_data = magsac_data_for_process[1][noise_threshold][outlier_ratio][5]"
   ]
  },
  {
   "cell_type": "code",
   "execution_count": null,
   "metadata": {},
   "outputs": [],
   "source": [
    "precision_true_threshold = test_data.get_precision_from_threshold(noise_threshold)\n",
    "recall_true_threshold = test_data.get_recall_from_threshold(noise_threshold)"
   ]
  }
 ],
 "metadata": {
  "kernelspec": {
   "display_name": "Python 3",
   "language": "python",
   "name": "python3"
  },
  "language_info": {
   "codemirror_mode": {
    "name": "ipython",
    "version": 3
   },
   "file_extension": ".py",
   "mimetype": "text/x-python",
   "name": "python",
   "nbconvert_exporter": "python",
   "pygments_lexer": "ipython3",
   "version": "3.8.5"
  }
 },
 "nbformat": 4,
 "nbformat_minor": 4
}
