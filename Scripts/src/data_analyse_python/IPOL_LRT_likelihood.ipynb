{
 "cells": [
  {
   "cell_type": "markdown",
   "id": "verified-drive",
   "metadata": {},
   "source": [
    "## Evolution of likelihood according to $p_{\\sigma}$ and $\\underline{\\epsilon}(\\sigma)$\n",
    "\n",
    "This files simulates the behavior of the likelihood for a specific dataset."
   ]
  },
  {
   "cell_type": "code",
   "execution_count": null,
   "id": "informed-vacuum",
   "metadata": {},
   "outputs": [],
   "source": [
    "import numpy as np"
   ]
  },
  {
   "cell_type": "markdown",
   "id": "worth-navigation",
   "metadata": {},
   "source": [
    "Number of points of this dataset:"
   ]
  },
  {
   "cell_type": "code",
   "execution_count": null,
   "id": "after-cleaning",
   "metadata": {},
   "outputs": [],
   "source": [
    "n_pts = 1415"
   ]
  },
  {
   "cell_type": "markdown",
   "id": "industrial-liquid",
   "metadata": {},
   "source": [
    "Set $\\Sigma$:"
   ]
  },
  {
   "cell_type": "code",
   "execution_count": null,
   "id": "right-offense",
   "metadata": {},
   "outputs": [],
   "source": [
    "e = []\n",
    "k = 0\n",
    "ee = 0.25\n",
    "while ee <= 16:\n",
    "    ee = 0.25 * (np.sqrt(2) ** k)\n",
    "    e.append(ee)\n",
    "    k += 1"
   ]
  },
  {
   "cell_type": "code",
   "execution_count": null,
   "id": "centered-beads",
   "metadata": {},
   "outputs": [],
   "source": [
    "sigmas = np.array(e)"
   ]
  },
  {
   "cell_type": "markdown",
   "id": "narrow-librarian",
   "metadata": {},
   "source": [
    "$p_{\\sigma}$ for a specific image size:"
   ]
  },
  {
   "cell_type": "code",
   "execution_count": null,
   "id": "attended-rhythm",
   "metadata": {},
   "outputs": [],
   "source": [
    "def pSigma(sigma):\n",
    "    w = 800\n",
    "    h = 644    \n",
    "\n",
    "    return np.pi * sigma * sigma / w / h"
   ]
  },
  {
   "cell_type": "code",
   "execution_count": null,
   "id": "dramatic-oakland",
   "metadata": {},
   "outputs": [],
   "source": [
    "pSigmas = np.array([[pSigma(sigma) for sigma in sigmas]])"
   ]
  },
  {
   "cell_type": "markdown",
   "id": "pregnant-tribe",
   "metadata": {},
   "source": [
    "Possible inlier ratios:"
   ]
  },
  {
   "cell_type": "code",
   "execution_count": null,
   "id": "advised-military",
   "metadata": {},
   "outputs": [],
   "source": [
    "epsilons = np.array([[(i + 1) / n_pts] for i in range(n_pts)])"
   ]
  },
  {
   "cell_type": "code",
   "execution_count": null,
   "id": "refined-rebate",
   "metadata": {},
   "outputs": [],
   "source": [
    "ratios_plus = epsilons / pSigmas\n",
    "ratios_minus = (1 - epsilons) / (1 - pSigmas)"
   ]
  },
  {
   "cell_type": "code",
   "execution_count": null,
   "id": "grave-healthcare",
   "metadata": {},
   "outputs": [],
   "source": [
    "ratios_minus[ratios_plus < 1] = 1\n",
    "ratios_plus[ratios_plus < 1] = 1\n",
    "ratios_plus[-1, :] = 1\n",
    "ratios_minus[-1, :] = 1"
   ]
  },
  {
   "cell_type": "markdown",
   "id": "demographic-triumph",
   "metadata": {},
   "source": [
    "All possible values of $L$:"
   ]
  },
  {
   "cell_type": "code",
   "execution_count": null,
   "id": "agricultural-antique",
   "metadata": {},
   "outputs": [],
   "source": [
    "likelihood = 2 * n_pts * (np.log(ratios_plus) * epsilons + np.log(ratios_minus) * (1 - epsilons))"
   ]
  },
  {
   "cell_type": "code",
   "execution_count": null,
   "id": "elder-folks",
   "metadata": {},
   "outputs": [],
   "source": [
    "import matplotlib.pyplot as plt\n",
    "import seaborn as sns"
   ]
  },
  {
   "cell_type": "markdown",
   "id": "brief-dress",
   "metadata": {},
   "source": [
    "Values of the likelihood $L$ with respect to $\\underline{\\epsilon}(\\sigma)$ and $p_{\\sigma}$: "
   ]
  },
  {
   "cell_type": "code",
   "execution_count": null,
   "id": "strange-edinburgh",
   "metadata": {},
   "outputs": [],
   "source": [
    "plt.figure(figsize=(10, 10))\n",
    "sns.heatmap(likelihood, cmap='hot')\n",
    "plt.show()"
   ]
  },
  {
   "cell_type": "code",
   "execution_count": null,
   "id": "separated-scanner",
   "metadata": {},
   "outputs": [],
   "source": [
    "diff_epsilon = np.zeros(likelihood.shape)\n",
    "for index_sigma in range(1, pSigmas.shape[1]):\n",
    "    for index_epsilons in range(epsilons.shape[0] - 1):\n",
    "        l_eps_sig = likelihood[index_epsilons, index_sigma]\n",
    "        possible_index = np.where(likelihood[:, index_sigma - 1] > l_eps_sig)[0]\n",
    "        if len(possible_index) > 0:\n",
    "            diff_epsilon[index_epsilons, index_sigma] = index_epsilons - np.min(possible_index)\n",
    "        else:\n",
    "            diff_epsilon[index_epsilons, index_sigma] = -1"
   ]
  },
  {
   "cell_type": "markdown",
   "id": "applicable-fourth",
   "metadata": {},
   "source": [
    "Number of inliers to compensate the increase of $\\sigma$ in the likelihood:"
   ]
  },
  {
   "cell_type": "code",
   "execution_count": null,
   "id": "weighted-harvest",
   "metadata": {
    "scrolled": false
   },
   "outputs": [],
   "source": [
    "plt.figure(figsize=(10, 10))\n",
    "sns.heatmap(diff_epsilon, cmap='hot')\n",
    "plt.xticks(np.array(range(len(sigmas)))+0.5, sigmas, rotation='-60')\n",
    "plt.yticks(np.array(range(0, len(epsilons), 50))+0.5, epsilons[::50])\n",
    "plt.show()"
   ]
  },
  {
   "cell_type": "code",
   "execution_count": null,
   "id": "identified-admission",
   "metadata": {},
   "outputs": [],
   "source": []
  }
 ],
 "metadata": {
  "kernelspec": {
   "display_name": "Python 3",
   "language": "python",
   "name": "python3"
  },
  "language_info": {
   "codemirror_mode": {
    "name": "ipython",
    "version": 3
   },
   "file_extension": ".py",
   "mimetype": "text/x-python",
   "name": "python",
   "nbconvert_exporter": "python",
   "pygments_lexer": "ipython3",
   "version": "3.8.5"
  }
 },
 "nbformat": 4,
 "nbformat_minor": 5
}
