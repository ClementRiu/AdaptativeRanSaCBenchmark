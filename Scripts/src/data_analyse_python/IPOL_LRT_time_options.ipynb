{
 "cells": [
  {
   "cell_type": "markdown",
   "id": "existing-niagara",
   "metadata": {},
   "source": [
    "## Runtime and VPM impact of options of LRTSAC\n",
    "\n",
    "File used to create figures 6 to 9 of the paper."
   ]
  },
  {
   "cell_type": "code",
   "execution_count": null,
   "id": "persistent-nurse",
   "metadata": {},
   "outputs": [],
   "source": [
    "import single_data_loader\n",
    "%load_ext autoreload\n",
    "%autoreload 2"
   ]
  },
  {
   "cell_type": "code",
   "execution_count": null,
   "id": "cooperative-occasions",
   "metadata": {},
   "outputs": [],
   "source": [
    "import glob\n",
    "import matplotlib.pyplot as plt\n",
    "import numpy as np"
   ]
  },
  {
   "cell_type": "markdown",
   "id": "available-coalition",
   "metadata": {},
   "source": [
    "Glob path to the output files of the experiment:"
   ]
  },
  {
   "cell_type": "code",
   "execution_count": null,
   "id": "documented-cambridge",
   "metadata": {},
   "outputs": [],
   "source": [
    "file_glob = \"/home/riuclement/Documents/RANSAC-benchmark/ipol_experiment/time_exp/*/{}_{}_TimeMetrics.txt\""
   ]
  },
  {
   "cell_type": "markdown",
   "id": "active-identity",
   "metadata": {},
   "source": [
    "Number of datasets and name of the datasets:"
   ]
  },
  {
   "cell_type": "code",
   "execution_count": null,
   "id": "proud-sacramento",
   "metadata": {},
   "outputs": [],
   "source": [
    "datasize = {\"hom\": 10, \"fun\": 11, \"ess\": 6}\n",
    "datanames = [\"hom\", \"fun\", \"ess\"]"
   ]
  },
  {
   "cell_type": "code",
   "execution_count": null,
   "id": "intense-publication",
   "metadata": {},
   "outputs": [],
   "source": [
    "generic_labels = [\n",
    "    \"LRT with bailout, with update of T, with reduce Sigma\",\n",
    "    \"LRT with bailout, without update of T, with reduce Sigma\",\n",
    "    \"LRT without bailout, with update of T, with reduce Sigma\",\n",
    "    \"LRT without bailout, without update of T, with reduce Sigma\",\n",
    "    \"LRT without bailout, without update of T, without reduce Sigma\",\n",
    "]"
   ]
  },
  {
   "cell_type": "markdown",
   "id": "blind-matthew",
   "metadata": {},
   "source": [
    "Loading of the data:"
   ]
  },
  {
   "cell_type": "code",
   "execution_count": null,
   "id": "concrete-guarantee",
   "metadata": {},
   "outputs": [],
   "source": [
    "time_loader = single_data_loader.Time_Data_Loader(\n",
    "    file_glob,\n",
    "    datasize,\n",
    "    datanames,\n",
    "    generic_labels,\n",
    "    5\n",
    ")"
   ]
  },
  {
   "cell_type": "code",
   "execution_count": null,
   "id": "ambient-artist",
   "metadata": {},
   "outputs": [],
   "source": [
    "time_loader.load_data()"
   ]
  },
  {
   "cell_type": "code",
   "execution_count": null,
   "id": "optional-nepal",
   "metadata": {},
   "outputs": [],
   "source": [
    "def create_ticks(datasize):\n",
    "    x_names = [\n",
    "        \"H{}\".format(i) for i in range(1, datasize[\"hom\"] + 1)\n",
    "    ] + [\n",
    "        \"F{}\".format(i) for i in range(1, datasize[\"fun\"] + 1)\n",
    "    ] + [\n",
    "        \"E{}\".format(i) for i in range(1, datasize[\"ess\"] + 1)\n",
    "    ]\n",
    "    x_ticks = np.arange(len(x_names))\n",
    "    return x_ticks, x_names\n",
    "\n",
    "def plot_TimeMetric(metric_index, values, plot_name, plot=False, save=False):\n",
    "    x_ticks, x_names = create_ticks(values._datasize)\n",
    "\n",
    "    plt.figure(figsize=(10, 7))\n",
    "    plt.title(\"{} across USAC datasets\".format(plot_name))\n",
    "    plt.xticks(x_ticks, x_names)\n",
    "    for i in range(values._mean.shape[1]):\n",
    "        if plot:\n",
    "            plt.step(x_ticks, values._ratio[metric_index, i, :], label=values._labels[i], alpha=0.8, where=\"mid\")\n",
    "        else:\n",
    "            plt.bar(x_ticks, values._ratio[metric_index, i, :], label=values._labels[i], alpha=1 / len(values._numberAlgo))\n",
    "    plt.legend()\n",
    "    plt.xlabel(\"Dataset name\")\n",
    "    plt.ylabel(plot_name)\n",
    "    plt.tight_layout()\n",
    "    if save:\n",
    "        plt.savefig(save)\n",
    "    else:\n",
    "        plt.show()"
   ]
  },
  {
   "cell_type": "markdown",
   "id": "catholic-density",
   "metadata": {},
   "source": [
    "Plotting of the runtime and vpm ratio:"
   ]
  },
  {
   "cell_type": "code",
   "execution_count": null,
   "id": "planned-disabled",
   "metadata": {},
   "outputs": [],
   "source": [
    "plot_TimeMetric(2,\n",
    "                time_loader,\n",
    "                \"Runtime divided by runtime without any options\",\n",
    "                True,\n",
    "                save=False)#\"/home/riuclement/Documents/RANSAC-benchmark/ipol_experiment/qs_exp/all_time_ratio_lrt.pdf\")"
   ]
  },
  {
   "cell_type": "code",
   "execution_count": null,
   "id": "enclosed-platinum",
   "metadata": {},
   "outputs": [],
   "source": [
    "plot_TimeMetric(1,\n",
    "                time_loader,\n",
    "                \"VPM as a ratio of total number of points\",\n",
    "                True)#, save=\"/home/riuclement/Documents/RANSAC-benchmark/ipol_experiment/qs_exp/vpm_ratio_lrt.pdf\")"
   ]
  },
  {
   "cell_type": "code",
   "execution_count": null,
   "id": "bound-nightlife",
   "metadata": {},
   "outputs": [],
   "source": [
    "def plot_TimeMetric_multiple_bar(values, plot_names, save=False):\n",
    "    x_ticks, x_names = create_ticks(values._datasize)\n",
    "\n",
    "    begin = 0\n",
    "    for datasetName, nData in values._datasize.items():\n",
    "        plt.figure(figsize=(max(nData, 7), 7))\n",
    "        plt.title(\"Runtime divided by runtime without any options for USAC {} image pairs.\".format(plot_names[datasetName]))\n",
    "        plt.xticks(x_ticks[begin:begin+nData] * 1.1, x_names[begin:begin+nData])\n",
    "        for i in range(values._numberAlgo):\n",
    "            plt.bar((x_ticks[begin:begin+nData]) * 1.1 - 2 / values._numberAlgo + i / values._numberAlgo, \n",
    "                    values._ratio[2, i, begin:begin+nData], \n",
    "                    1 / values._numberAlgo, \n",
    "                    label=values._labels[i],\n",
    "                    align=\"center\")\n",
    "        plt.legend(loc='upper center', bbox_to_anchor=(0.5, -0.1))\n",
    "        plt.xlabel(\"Dataset name\")\n",
    "        plt.ylabel(\"Runtime divided by runtime without any options (log scale)\")\n",
    "        plt.tight_layout()\n",
    "        plt.yscale('log')\n",
    "        if save:\n",
    "            plt.savefig(save.format(datasetName))\n",
    "        else:\n",
    "            plt.show()\n",
    "        begin+=nData"
   ]
  },
  {
   "cell_type": "markdown",
   "id": "established-boundary",
   "metadata": {},
   "source": [
    "Plot of the runtime ratio for all options:"
   ]
  },
  {
   "cell_type": "code",
   "execution_count": null,
   "id": "single-leadership",
   "metadata": {
    "scrolled": false
   },
   "outputs": [],
   "source": [
    "plot_TimeMetric_multiple_bar(time_loader,\n",
    "                             {\"hom\": \"homography\", \"fun\": \"fundamental matrix\", \"ess\": \"essential matrix\"},\n",
    "                             save=False)#\"/home/riuclement/Documents/RANSAC-benchmark/ipol_experiment/qs_exp/all_time_ratio_lrt_{}.pdf\")"
   ]
  },
  {
   "cell_type": "code",
   "execution_count": null,
   "id": "enabling-charity",
   "metadata": {},
   "outputs": [],
   "source": [
    "def plot_TimeMetric_dual(values, plot_name, ylabels, semilog=False, save=False):\n",
    "    x_ticks, x_names = create_ticks(values._datasize)\n",
    "    alpha = 0.6\n",
    "    \n",
    "    t_ratio = values._mean[2, 0:1, :] / values._mean[2, 2:3, :]\n",
    "    vpm_ratio = values._mean[1, 0:1, :] / values._mean[1, 2:3, :]\n",
    "    \n",
    "    fig, ax1 = plt.subplots(figsize=(10, 7))\n",
    "    fig.suptitle(\"{} across USAC datasets\".format(plot_name))\n",
    "    ax1.set_xticks(x_ticks)\n",
    "    ax1.set_xticklabels(x_names)\n",
    "    ax1.set_xlabel(\"Dataset names\")\n",
    "    \n",
    "    line1 = ax1.bar(x_ticks, t_ratio[0, :], color='b', alpha=alpha)\n",
    "    ax1.set_ylabel(ylabels[0], color='b')\n",
    "    ax1.tick_params(axis='y', labelcolor='b')\n",
    "    ax1.set_ylim(0, t_ratio[0, :].max() * 1.05)\n",
    "    \n",
    "    ax2 = ax1.twinx()\n",
    "\n",
    "    line2 = ax2.bar(x_ticks, vpm_ratio[0, :], color='r', alpha=alpha)\n",
    "    ax2.set_ylabel(ylabels[1], color='r')\n",
    "    ax2.tick_params(axis='y', labelcolor='r')\n",
    "    ax2.set_ylim(0, t_ratio[0, :].max() * 1.05)\n",
    "    \n",
    "\n",
    "    fig.tight_layout()\n",
    "    if save:\n",
    "        plt.savefig(save)\n",
    "    else:\n",
    "        plt.show()"
   ]
  },
  {
   "cell_type": "markdown",
   "id": "signed-peninsula",
   "metadata": {},
   "source": [
    "Compare runtime and vpm with and without bailout:"
   ]
  },
  {
   "cell_type": "code",
   "execution_count": null,
   "id": "disturbed-madonna",
   "metadata": {},
   "outputs": [],
   "source": [
    "plot_TimeMetric_dual(time_loader,\n",
    "                    \"Runtime and VPM ratios\",\n",
    "                    [\"LRT runtime with bailout / without bailout\", \"LRT VPM / total number of points\"],\n",
    "                    save=False)#\"/home/riuclement/Documents/RANSAC-benchmark/ipol_experiment/qs_exp/new_time_vpm_ratio_lrt.pdf\")"
   ]
  },
  {
   "cell_type": "code",
   "execution_count": null,
   "id": "pointed-recipient",
   "metadata": {},
   "outputs": [],
   "source": []
  }
 ],
 "metadata": {
  "kernelspec": {
   "display_name": "Python 3",
   "language": "python",
   "name": "python3"
  },
  "language_info": {
   "codemirror_mode": {
    "name": "ipython",
    "version": 3
   },
   "file_extension": ".py",
   "mimetype": "text/x-python",
   "name": "python",
   "nbconvert_exporter": "python",
   "pygments_lexer": "ipython3",
   "version": "3.8.5"
  }
 },
 "nbformat": 4,
 "nbformat_minor": 5
}
