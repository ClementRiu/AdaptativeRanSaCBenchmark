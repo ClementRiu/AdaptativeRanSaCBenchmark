{
 "cells": [
  {
   "cell_type": "code",
   "execution_count": null,
   "metadata": {},
   "outputs": [],
   "source": [
    "from data_loader import All_Data_Loader\n",
    "%load_ext autoreload\n",
    "%autoreload 2"
   ]
  },
  {
   "cell_type": "code",
   "execution_count": null,
   "metadata": {},
   "outputs": [],
   "source": [
    "# default_path = \"/home/riuclement//Documents/RANSAC-benchmark/3dv_experiment/general/fundamental/2021_07_07_18_24_09/\"\n",
    "default_path = \"/home/riuclement//Documents/RANSAC-benchmark/3dv_experiment/general/homography/2021_06_22_09_28_43/\"\n",
    "# default_path = \"/home/riuclement//Documents/RANSAC-benchmark/magsac_experiment/2022_03_02_23_57_02//\"\n",
    "\n",
    "other_editable_glob_to_results = [\n",
    "    default_path + \"experiment_results/{}/hom_{}_std*_ratio*_output.txt\",\n",
    "    default_path + \"experiment_results/{}/hom_{}_std*_ratio*_magsacOut.txt\",    \n",
    "]\n",
    "magsac_default_path = default_path + \"experiment_results/uniform/hom_{}_std*_ratio*_magsac{}.txt\"\n",
    "\n",
    "\n",
    "# other_editable_glob_to_results = [\n",
    "#     default_path + \"experiment_results/{}/fun_{}_std*_ratio*_output.txt\",\n",
    "#     default_path + \"experiment_results/{}/fun_{}_std*_ratio*_magsacOut.txt\",    \n",
    "# ]\n",
    "# magsac_default_path = default_path + \"experiment_results/uniform/fun_{}_std*_ratio*_magsac{}.txt\"\n",
    "\n",
    "# other_editable_glob_to_results = [\n",
    "#     default_path + \"experiment_results/{}/ess_{}_std*_ratio*_output.txt\",\n",
    "#     default_path + \"experiment_results/{}/ess_{}_std*_ratio*_magsacOut.txt\",    \n",
    "# ]\n",
    "# magsac_default_path = default_path + \"experiment_results/uniform/ess_{}_std*_ratio*_magsac{}.txt\"\n",
    "\n",
    "# other_editable_glob_to_results = [\n",
    "#     \"/home/clementriu/Documents/these/RANSAC-benchmark/merged_script/experience_data/\" + \\\n",
    "# \"remote_fundamental/magsac-test/experience_results/{}/fun_{}_std*_ratio*_output.txt\",\n",
    "#     \"/home/clementriu/Documents/these/RANSAC-benchmark/merged_script/experience_data/\" + \\\n",
    "# \"remote_fundamental/magsac-test/experience_results/{}/fun_{}_std*_ratio*_outputRS.txt\",\n",
    "#     \"/home/clementriu/Documents/these/RANSAC-benchmark/merged_script/experience_data/\" + \\\n",
    "# \"remote_fundamental/magsac-test/experience_results/{}/fun_{}_std*_ratio*_magsacOut.txt\",    \n",
    "# ]\n",
    "# magsac_default_path = \"/home/clementriu/Documents/these/RANSAC-benchmark/merged_script/experience_data/\" + \\\n",
    "# \"remote_fundamental/magsac-test/experience_results/uniform/fun_{}_std*_ratio*_magsac{}.txt\"\n",
    "\n",
    "\n",
    "# other_editable_glob_to_results = [\n",
    "#     \"/home/riuclement//Documents/RANSAC-benchmark/3dv_experiment/general/essential/2021_06_13_11_25_09/\" +\\\n",
    "#     \"experiment_results/{}/ess_{}_std*_ratio*_output.txt\",\n",
    "#     \"/home/riuclement//Documents/RANSAC-benchmark/3dv_experiment/general/essential/2021_06_13_11_25_09/\" +\\\n",
    "#     \"experiment_results/{}/ess_{}_std*_ratio*_magsacOut.txt\",    \n",
    "# ]\n",
    "# magsac_default_path = \"/home/riuclement//Documents/RANSAC-benchmark/3dv_experiment/general/essential/2021_06_13_11_25_09/\" +\\\n",
    "#     \"experiment_results/uniform/ess_{}_std*_ratio*_magsac{}.txt\"\n",
    "\n",
    "folder_names = ['uniform']\n",
    "data_numbers = [1]\n",
    "noise_stds = [float(i / 10) for i in range(31)]\n",
    "# noise_stds = [float(i / 5) for i in range(16)]\n",
    "outlier_ratios = [float(i / 10) for i in range(10)]\n",
    "\n",
    "file_names = [\"Weights\", \"Labels\", \"Errors\", \"ErrorsAll\", \"Inliers\", \"PosInl\"]\n",
    "# file_names = [\"Weights\", \"Labels\", \"InErrors\", \"FullErrors\", \"Inliers\", \"Inliers\"]\n",
    "file_types = [\"float\", \"int\", \"float\", \"float\", \"int\", \"int\"]\n",
    "\n",
    "other_algorithms = [\"Ransac-3\", \"Ransac-9\", \"AC-Ransac\", \"LRT\"]\n",
    "time_algorithms = [\"Magsac\"]\n",
    "magsac_algorithms = ['Magsac-True-Threshold', \n",
    "                     'Magsac-AC-Ransac-Threshold', \n",
    "                     'Magsac-P', \n",
    "                     'Magsac-R',\n",
    "                     'Magsac-W']\n",
    "model_type = \"homography - USAC\"\n",
    "# model_type = \"fundamental matrix - kusvod2\"\n",
    "# model_type = \"essential matrix - USAC\""
   ]
  },
  {
   "cell_type": "code",
   "execution_count": null,
   "metadata": {},
   "outputs": [],
   "source": [
    "data_loader = All_Data_Loader(other_editable_glob_to_results,\n",
    "                              magsac_default_path,\n",
    "                              folder_names,\n",
    "                              data_numbers,\n",
    "                              noise_stds,\n",
    "                              outlier_ratios,\n",
    "                              file_names,\n",
    "                              file_types,\n",
    "                              other_algorithms,\n",
    "                              time_algorithms,\n",
    "                              magsac_algorithms,\n",
    "                              model_type)"
   ]
  },
  {
   "cell_type": "code",
   "execution_count": null,
   "metadata": {},
   "outputs": [],
   "source": [
    "data_loader.create_paths()"
   ]
  },
  {
   "cell_type": "code",
   "execution_count": null,
   "metadata": {
    "scrolled": true
   },
   "outputs": [],
   "source": [
    "data_loader.load_data()"
   ]
  },
  {
   "cell_type": "code",
   "execution_count": null,
   "metadata": {},
   "outputs": [],
   "source": [
    "data_loader.get_metrics(0.1)"
   ]
  },
  {
   "cell_type": "code",
   "execution_count": null,
   "metadata": {},
   "outputs": [],
   "source": [
    "data_loader.create_summary(0.1)"
   ]
  },
  {
   "cell_type": "code",
   "execution_count": null,
   "metadata": {
    "scrolled": true
   },
   "outputs": [],
   "source": [
    "data_loader.concatenate_all_data()"
   ]
  },
  {
   "cell_type": "code",
   "execution_count": null,
   "metadata": {},
   "outputs": [],
   "source": [
    "data_loader.generate_f1score(0.1)"
   ]
  },
  {
   "cell_type": "code",
   "execution_count": null,
   "metadata": {},
   "outputs": [],
   "source": [
    "# assert(False)"
   ]
  },
  {
   "cell_type": "code",
   "execution_count": null,
   "metadata": {},
   "outputs": [],
   "source": [
    "file_format = \".pdf\"\n",
    "# file_format = \".png\"\n",
    "# save_name =\"/home/clementriu/Documents/these/RANSAC-benchmark/merged_script/experience_data/\" + \\\n",
    "# \"remote_homography/magsac_test/experience_results/{}_{}_the{}\".format(data_numbers[0], \"{}\", file_format)\n",
    "save_name = default_path +  \"{}_{}_the{}\".format(data_numbers[0], \"{}\", file_format)\n",
    "# save_name =\"/home/clementriu/Documents/these/RANSAC-benchmark/merged_script/experience_data/\" + \\\n",
    "# \"remote_essential/2021_01_09_01_38_02/experience_results/{}_{}_the{}\".format(data_numbers[0], \"{}\", file_format)\n",
    "\n",
    "remove = ['Magsac-True-Threshold',\n",
    "          'Magsac-AC-Ransac-Threshold'\n",
    "]"
   ]
  },
  {
   "cell_type": "code",
   "execution_count": null,
   "metadata": {},
   "outputs": [],
   "source": [
    "outlier_ratio = 0.3\n",
    "outlier_ratio_index = int(outlier_ratio * 10)\n",
    "data_loader.generate_single_image(folder_names[0],\n",
    "                                  data_numbers[0],\n",
    "                                  data_loader._all_algorithms,\n",
    "                                  remove,\n",
    "                                  outlier_ratio,\n",
    "                                  outlier_ratio_index,\n",
    "                                  \"F1-score\",\n",
    "                                  data_loader._f1score_mean,\n",
    "                                  data_loader._f1score_std,\n",
    "                                  std_=False,\n",
    "#                                   save_=save_name.format(\"f1-score_{}_\".format(outlier_ratio)),\n",
    "                                  threshold_=.495\n",
    "                                 )"
   ]
  },
  {
   "cell_type": "code",
   "execution_count": null,
   "metadata": {},
   "outputs": [],
   "source": [
    "outlier_ratio = 0.3\n",
    "outlier_ratio_index = int(outlier_ratio * 10)\n",
    "data_loader.generate_single_image(folder_names[0],\n",
    "                                  data_numbers[0],\n",
    "                                  data_loader._all_time_algorithms,\n",
    "                                  remove,\n",
    "                                  outlier_ratio,\n",
    "                                  outlier_ratio_index,\n",
    "                                  \"Runtime\",\n",
    "                                  data_loader._time_mean,\n",
    "                                  data_loader._time_std,\n",
    "                                  std_=False,\n",
    "#                                   save_=save_name.format(\"runtime_{}_\".format(outlier_ratio)),\n",
    "#                                   threshold_=.495\n",
    "                                 )"
   ]
  },
  {
   "cell_type": "code",
   "execution_count": null,
   "metadata": {},
   "outputs": [],
   "source": [
    "# assert(False)"
   ]
  },
  {
   "cell_type": "code",
   "execution_count": null,
   "metadata": {},
   "outputs": [],
   "source": [
    "data_loader.generate_f1score_image(data_numbers[0],\n",
    "                                   std_=False,\n",
    "#                                    save_=save_name.format('f1-score'),\n",
    "                                   remove_=remove,\n",
    "                                   threshold_=.5)"
   ]
  },
  {
   "cell_type": "code",
   "execution_count": null,
   "metadata": {},
   "outputs": [],
   "source": [
    "data_loader.generate_precision_image(data_numbers[0],\n",
    "                                     std_=False,\n",
    "#                                      save_=save_name.format('precision'),\n",
    "                                     remove_=remove,\n",
    "                                     threshold_=.5)"
   ]
  },
  {
   "cell_type": "code",
   "execution_count": null,
   "metadata": {},
   "outputs": [],
   "source": [
    "data_loader.generate_recall_image(data_numbers[0],\n",
    "                                  std_=False,\n",
    "#                                   save_=save_name.format('recall'),\n",
    "                                  remove_=remove,\n",
    "                                  threshold_=.5)"
   ]
  },
  {
   "cell_type": "code",
   "execution_count": null,
   "metadata": {
    "scrolled": false
   },
   "outputs": [],
   "source": [
    "# data_loader.generate_sigma_image(data_numbers[0],\n",
    "#                                  save_=save_name.format('sigma')\n",
    "#                                 )"
   ]
  },
  {
   "cell_type": "code",
   "execution_count": null,
   "metadata": {},
   "outputs": [],
   "source": [
    "threshold = 20\n",
    "# data_loader.generate_sigma_image(data_numbers[0],\n",
    "#                                  save_=save_name.format('sigma_th' + str(threshold)),\n",
    "#                                  threshold_=threshold)"
   ]
  },
  {
   "cell_type": "code",
   "execution_count": null,
   "metadata": {},
   "outputs": [],
   "source": [
    "data_loader.generate_sigma_image(data_numbers[0],\n",
    "                                 std_=False,\n",
    "#                                  save_=save_name.format('sigma_th_nostd' + str(threshold)),\n",
    "                                 threshold_=threshold)"
   ]
  },
  {
   "cell_type": "code",
   "execution_count": null,
   "metadata": {},
   "outputs": [],
   "source": [
    "data_loader.generate_time_image(data_numbers[0],\n",
    "#                                 save_=save_name.format('time')\n",
    "                               )"
   ]
  },
  {
   "cell_type": "code",
   "execution_count": null,
   "metadata": {},
   "outputs": [],
   "source": [
    "data_loader.generate_kept_image(data_numbers[0],\n",
    "#                                 save_=save_name.format('kept'),\n",
    "                                remove_=remove)"
   ]
  },
  {
   "cell_type": "code",
   "execution_count": null,
   "metadata": {},
   "outputs": [],
   "source": []
  }
 ],
 "metadata": {
  "kernelspec": {
   "display_name": "Python 3",
   "language": "python",
   "name": "python3"
  },
  "language_info": {
   "codemirror_mode": {
    "name": "ipython",
    "version": 3
   },
   "file_extension": ".py",
   "mimetype": "text/x-python",
   "name": "python",
   "nbconvert_exporter": "python",
   "pygments_lexer": "ipython3",
   "version": "3.8.5"
  }
 },
 "nbformat": 4,
 "nbformat_minor": 4
}
